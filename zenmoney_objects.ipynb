{
 "cells": [
  {
   "cell_type": "code",
   "execution_count": 1,
   "metadata": {},
   "outputs": [],
   "source": [
    "import utils_config\n",
    "import os\n",
    "import time\n",
    "import datetime\n",
    "import pandas as pd\n",
    "import gspread as gs\n",
    "\n",
    "from zenmoney import *\n",
    "from sqlalchemy import create_engine\n"
   ]
  },
  {
   "cell_type": "code",
   "execution_count": 2,
   "metadata": {},
   "outputs": [],
   "source": [
    "# Config File Path\n",
    "config_path = os.getcwd() + \"/config.json\"\n",
    "config = utils_config.load_config(config_path)\n"
   ]
  },
  {
   "cell_type": "code",
   "execution_count": 3,
   "metadata": {},
   "outputs": [],
   "source": [
    "# MySQL Credentials\n",
    "mysql_host = config.mysql.host\n",
    "mysql_db = config.mysql.db\n",
    "mysql_user = config.mysql.user\n",
    "mysql_pwd = config.mysql.password\n"
   ]
  },
  {
   "cell_type": "code",
   "execution_count": 4,
   "metadata": {},
   "outputs": [],
   "source": [
    "# Zenmoney Credentials – для прохождения Oauth\n",
    "consumer_key = config.credentials.consumer_key\n",
    "consumer_secret = config.credentials.consumer_secret\n",
    "user_name = config.credentials.user_name\n",
    "user_pass = config.credentials.user_pass\n"
   ]
  },
  {
   "cell_type": "code",
   "execution_count": 5,
   "metadata": {},
   "outputs": [],
   "source": [
    "# MySQL Alchemy Engine – UTF8 SET!\n",
    "mysql_engine = create_engine(\n",
    "    f\"mysql+mysqlconnector://{mysql_user}:{mysql_pwd}@{mysql_host}/{mysql_db}?charset=utf8\")\n"
   ]
  },
  {
   "cell_type": "code",
   "execution_count": null,
   "metadata": {},
   "outputs": [],
   "source": [
    "# В случае, если нужно делать какие-то запросы к самой базе\n",
    "# select_statement = mysql_engine.execute(\"SELECT title, id FROM roma.accounts\").fetchall() !!! FETCH ALL ()\n",
    "# df_select = pd.DataFrame.from_dict(select_accounts)\n"
   ]
  },
  {
   "cell_type": "code",
   "execution_count": 6,
   "metadata": {},
   "outputs": [],
   "source": [
    "# Zenmoney Authorization – но лучше вставить сам токен, который можно получить через Zerro (https://zerro.app/token)\n",
    "# oauth = OAuth2(consumer_key, consumer_secret, user_name, user_pass)\n",
    "zenmoney_api = Request(config.token)\n"
   ]
  },
  {
   "cell_type": "code",
   "execution_count": 7,
   "metadata": {},
   "outputs": [],
   "source": [
    "# now = сегодня в формате Unix, который принимает сервер на вход\n",
    "now = int(time.time())\n",
    "diff_objects = zenmoney_api.diff(\n",
    "    Diff(**{'serverTimestamp': 0, \"currentClientTimestamp\": now}))\n"
   ]
  },
  {
   "cell_type": "code",
   "execution_count": 8,
   "metadata": {},
   "outputs": [],
   "source": [
    "# Разбираем на части объект account, его же сразу подгружаем внутрь sql и записываем с полем update_time, внутри будем хранить балансы и все счета и будет стата по дням!\n",
    "df_account = pd.DataFrame.from_dict(diff_objects.account.to_dict())\n",
    "df_account = df_account[['id',\n",
    "                        'changed',\n",
    "                         'instrument',\n",
    "                         'type',\n",
    "                         'inBalance',\n",
    "                         'archive',\n",
    "                         'private',\n",
    "                         'savings',\n",
    "                         'title',\n",
    "                         'creditLimit',\n",
    "                         'startBalance',\n",
    "                         'balance']]\n",
    "df_account['balance'] = df_account['balance'].astype('int')\n",
    "df_account['startBalance'] = df_account['startBalance'].astype('int')\n",
    "\n",
    "# Создаем серию данных, ограничиваем длиной получаемого df, сбрасываем индексы для стандартного join по индексу\n",
    "update_s = pd.Series(int(time.time()), name='update_time').repeat(\n",
    "    len(df_account)).reset_index(drop=True)\n",
    "df_account = df_account.join(update_s)\n",
    "\n",
    "# df_account['changed'] = df_account['changed'].apply(lambda d: datetime.fromtimestamp(int(d)).strftime('%Y-%m-%d')) – не используется\n"
   ]
  },
  {
   "cell_type": "code",
   "execution_count": null,
   "metadata": {},
   "outputs": [],
   "source": [
    "df_instruments = pd.DataFrame.from_dict(diff_objects.instrument.to_dict())\n",
    "# Доллары, евро, рубли, другие валюты не будем собирать\n",
    "df_instruments = df_instruments.loc[df_instruments['id'] < 4]\n",
    "df_instruments = df_instruments[[\n",
    "    'id', 'changed', 'shortTitle', 'symbol', 'rate']]\n",
    "\n",
    "# df_instruments['changed'] = df_instruments['changed'].apply(lambda d: datetime.fromtimestamp(int(d)).strftime('%d.%m.%Y')) - вдруг если нужно конвертнуть дату в самом датафрейме\n"
   ]
  },
  {
   "cell_type": "code",
   "execution_count": null,
   "metadata": {},
   "outputs": [],
   "source": [
    "df_transactions = pd.DataFrame.from_dict(diff_objects.transaction.to_dict())\n",
    "df_transactions = df_transactions[\n",
    "    ['id',\n",
    "     'changed',\n",
    "     'created',\n",
    "     'user',\n",
    "     'deleted',\n",
    "     'incomeInstrument',\n",
    "     'incomeAccount',\n",
    "     'income',\n",
    "     'outcomeInstrument',\n",
    "     'outcomeAccount',\n",
    "     'outcome',\n",
    "     'tag',\n",
    "     'payee',\n",
    "     'opIncome',\n",
    "     'opIncomeInstrument',\n",
    "     'opOutcome',\n",
    "     'opOutcomeInstrument',\n",
    "     'date',\n",
    "     'originalPayee',\n",
    "     'viewed',\n",
    "     'hold',\n",
    "     'qrCode',\n",
    "     'source',\n",
    "     'comment']\n",
    "]\n",
    "\n",
    "# Скидываем [] внутри колонки tag, чтобы нормально всё прогружать\n",
    "df_transactions['tag'] = df_transactions['tag'].explode()\n"
   ]
  },
  {
   "cell_type": "code",
   "execution_count": null,
   "metadata": {},
   "outputs": [],
   "source": [
    "# С тегами по-другому работаем, смотрим расходы по счетам, но на всякий тоже прогрузим\n",
    "\n",
    "df_tags = pd.DataFrame.from_dict(diff_objects.tag.to_dict())\n",
    "df_tags = df_tags[['id', 'changed', 'title', 'parent']]\n"
   ]
  },
  {
   "cell_type": "code",
   "execution_count": null,
   "metadata": {},
   "outputs": [],
   "source": [
    "# Поехали грузить в SQL\n",
    "\n",
    "df_account.to_sql('accounts', con=mysql_engine, if_exists='append')\n",
    "df_instruments.to_sql('instruments', con=mysql_engine, if_exists='append')\n",
    "df_transactions.to_sql('transactions', con=mysql_engine, if_exists='replace')\n",
    "df_tags.to_sql('tags', con=mysql_engine, if_exists='replace')\n"
   ]
  },
  {
   "cell_type": "code",
   "execution_count": 1,
   "metadata": {},
   "outputs": [],
   "source": [
    "# gs_sa = gs.service_account(filename=os.getcwd()+'/service_account.json')\n",
    "# sheet = gs_sa.open_by_url(config.google_sheets.sheet_url)\n",
    "\n",
    "# transactions_sheet = sheet.worksheet('transactions')\n",
    "# # transactions_sheet.clear()\n",
    "# transactions_sheet.update(\n",
    "#     [df_transactions.columns.values.tolist()] + df_transactions.values.tolist())\n"
   ]
  }
 ],
 "metadata": {
  "kernelspec": {
   "display_name": "Python 3.9.12 ('venv': venv)",
   "language": "python",
   "name": "python3"
  },
  "language_info": {
   "codemirror_mode": {
    "name": "ipython",
    "version": 3
   },
   "file_extension": ".py",
   "mimetype": "text/x-python",
   "name": "python",
   "nbconvert_exporter": "python",
   "pygments_lexer": "ipython3",
   "version": "3.9.12"
  },
  "orig_nbformat": 4,
  "vscode": {
   "interpreter": {
    "hash": "49ba38f052db0b78f102ebd3946709e19e3bc70e7d9a2106b2115900effc1f76"
   }
  }
 },
 "nbformat": 4,
 "nbformat_minor": 2
}
